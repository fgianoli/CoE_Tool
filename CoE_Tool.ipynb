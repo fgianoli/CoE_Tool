{
 "cells": [
  {
   "cell_type": "markdown",
   "metadata": {},
   "source": [
    "# Convergence of Evidence Europe"
   ]
  },
  {
   "cell_type": "markdown",
   "metadata": {},
   "source": [
    "The Convergence of Evidence, is a map that shows the occurence of specific processes related to land degradation (which are indicated as global Change Issues - GCIs). \n",
    "\n",
    "Where all the processes are identified as being potentially contributing to land degradation, none on its own is really enough to explain it (only in very specific cases). As we can't model the interaction, we 'simply' try to indicate how many of these processes (GCIs) are simultaneously at play and where this happens. The occurrence of such 'accumulation' at any given location indicates a certain stress on the land resources and suggest that potentially this led, or can lead, to land degradation. \n",
    "\n",
    "The process of computation has 3 steps.\n",
    "\n",
    "First of all, we have to define the base of our analysis using the landcover.\n"
   ]
  },
  {
   "cell_type": "markdown",
   "metadata": {},
   "source": [
    "## Land Cover computation"
   ]
  },
  {
   "cell_type": "code",
   "execution_count": 1,
   "metadata": {},
   "outputs": [],
   "source": [
    "#!/usr/bin/env python\n",
    "# -*- coding: utf-8 -*-\n",
    "\n",
    "import os\n",
    "import json\n",
    "import sys, getopt\n",
    "\n",
    "#import functions from my library\n",
    "import full_raster_computation as frc\n",
    "from lib import tiling as tiling\n",
    "from lib import merge as merge\n"
   ]
  },
  {
   "cell_type": "markdown",
   "metadata": {},
   "source": [
    "Define the input folder for the Land Cover."
   ]
  },
  {
   "cell_type": "code",
   "execution_count": 2,
   "metadata": {},
   "outputs": [],
   "source": [
    "input_raster_folder= \"D:/convergence_europe/coe/input/LC\""
   ]
  },
  {
   "cell_type": "markdown",
   "metadata": {},
   "source": [
    "Define how to reclass the Land Cover data. The format is *[from value, to value, new value]*  \n",
    "It is possible to find all the classes [here](https://land.copernicus.eu/global/sites/cgls.vito.be/files/products/CGLOPS1_PUM_LC100m-V3_I3.3.pdf)\n"
   ]
  },
  {
   "cell_type": "code",
   "execution_count": 3,
   "metadata": {},
   "outputs": [],
   "source": [
    "classification= [[0, 19, 0], [20, 39, 1], [40, 49, 2], [50, 59, 4], [60, 69, 6], [70, 89, 0], [90, 99, 5], [100, 109, 6], [110, 126, 3], [127, 255, 0]]"
   ]
  },
  {
   "cell_type": "code",
   "execution_count": 4,
   "metadata": {},
   "outputs": [],
   "source": [
    "raster_output= \"D:/convergence_europe/coe/outputs/LC2\""
   ]
  },
  {
   "cell_type": "markdown",
   "metadata": {},
   "source": [
    "Define intermediate processing folder, True if you want to define it, false if not"
   ]
  },
  {
   "cell_type": "code",
   "execution_count": 5,
   "metadata": {},
   "outputs": [],
   "source": [
    "processing_folder= 'false'"
   ]
  },
  {
   "cell_type": "markdown",
   "metadata": {},
   "source": [
    "Do you want to delete the processing files?"
   ]
  },
  {
   "cell_type": "code",
   "execution_count": 6,
   "metadata": {},
   "outputs": [],
   "source": [
    "del_process = 'false'"
   ]
  },
  {
   "cell_type": "markdown",
   "metadata": {},
   "source": [
    "Here start the process of Land Cover reclassification and normalization, please don't change anything"
   ]
  },
  {
   "cell_type": "code",
   "execution_count": 7,
   "metadata": {},
   "outputs": [
    {
     "name": "stdout",
     "output_type": "stream",
     "text": [
      "Reprojecting...\n",
      "EPSG:4326\n",
      "The CRS is:  EPSG:4326 the file will be reprojected to  EPSG:54009\n",
      "CPU process time: 0.0 [min] 6.9 [s]\n",
      "Reclassifing...\n",
      "Raster reclissified to false\\E000N40_PROBAV_LC100_global_v3.0.1_2019-nrt_Discrete-Classification-map_EPSG-4326_reclassified_.tif file.\n",
      "CPU process time: 0.0 [min] 28.3 [s]\n",
      "Computing mode...\n",
      "Pixel Size:  106.25143398205802  x  106.25143398205802\n",
      "CPU process time: 0.0 [min] 14.9 [s]\n",
      "Raster Processing End, final result: D:/convergence_europe/coe/outputs/LC2\\E000N40_PROBAV_LC100_global_v3.0.1_2019-nrt_Discrete-Classification-map_EPSG-4326_resampled_.tif\n",
      "Reprojecting...\n",
      "EPSG:4326\n",
      "The CRS is:  EPSG:4326 the file will be reprojected to  EPSG:54009\n",
      "CPU process time: 0.0 [min] 8.1 [s]\n",
      "Reclassifing...\n",
      "Raster reclissified to false\\E000N60_PROBAV_LC100_global_v3.0.1_2019-nrt_Discrete-Classification-map_EPSG-4326_reclassified_.tif file.\n",
      "CPU process time: 0.0 [min] 31.6 [s]\n",
      "Computing mode...\n",
      "Pixel Size:  94.39051121461291  x  94.39051121461291\n",
      "CPU process time: 0.0 [min] 14.1 [s]\n",
      "Raster Processing End, final result: D:/convergence_europe/coe/outputs/LC2\\E000N60_PROBAV_LC100_global_v3.0.1_2019-nrt_Discrete-Classification-map_EPSG-4326_resampled_.tif\n",
      "Reprojecting...\n",
      "EPSG:4326\n",
      "The CRS is:  EPSG:4326 the file will be reprojected to  EPSG:54009\n",
      "CPU process time: 0.0 [min] 7.0 [s]\n",
      "Reclassifing...\n",
      "Raster reclissified to false\\E000N80_PROBAV_LC100_global_v3.0.1_2019-nrt_Discrete-Classification-map_EPSG-4326_reclassified_.tif file.\n",
      "CPU process time: 0.0 [min] 33.9 [s]\n",
      "Computing mode...\n",
      "Pixel Size:  73.63557835939707  x  73.63557835939707\n",
      "CPU process time: 0.0 [min] 9.5 [s]\n",
      "Raster Processing End, final result: D:/convergence_europe/coe/outputs/LC2\\E000N80_PROBAV_LC100_global_v3.0.1_2019-nrt_Discrete-Classification-map_EPSG-4326_resampled_.tif\n",
      "Reprojecting...\n",
      "EPSG:4326\n",
      "The CRS is:  EPSG:4326 the file will be reprojected to  EPSG:54009\n",
      "CPU process time: 0.0 [min] 7.3 [s]\n",
      "Reclassifing...\n",
      "Raster reclissified to false\\E020N40_PROBAV_LC100_global_v3.0.1_2019-nrt_Discrete-Classification-map_EPSG-4326_reclassified_.tif file.\n",
      "CPU process time: 0.0 [min] 35.8 [s]\n",
      "Computing mode...\n",
      "Pixel Size:  111.56932872591229  x  111.56932872591229\n",
      "CPU process time: 0.0 [min] 32.4 [s]\n",
      "Raster Processing End, final result: D:/convergence_europe/coe/outputs/LC2\\E020N40_PROBAV_LC100_global_v3.0.1_2019-nrt_Discrete-Classification-map_EPSG-4326_resampled_.tif\n",
      "Reprojecting...\n",
      "EPSG:4326\n",
      "The CRS is:  EPSG:4326 the file will be reprojected to  EPSG:54009\n",
      "CPU process time: 0.0 [min] 11.3 [s]\n",
      "Reclassifing...\n",
      "Raster reclissified to false\\E020N60_PROBAV_LC100_global_v3.0.1_2019-nrt_Discrete-Classification-map_EPSG-4326_reclassified_.tif file.\n",
      "CPU process time: 0.0 [min] 32.0 [s]\n",
      "Computing mode...\n",
      "Pixel Size:  103.85310188337412  x  103.85310188337412\n",
      "CPU process time: 0.0 [min] 15.0 [s]\n",
      "Raster Processing End, final result: D:/convergence_europe/coe/outputs/LC2\\E020N60_PROBAV_LC100_global_v3.0.1_2019-nrt_Discrete-Classification-map_EPSG-4326_resampled_.tif\n",
      "Reprojecting...\n",
      "EPSG:4326\n",
      "The CRS is:  EPSG:4326 the file will be reprojected to  EPSG:54009\n",
      "CPU process time: 0.0 [min] 5.7 [s]\n",
      "Reclassifing...\n",
      "Raster reclissified to false\\E020N80_PROBAV_LC100_global_v3.0.1_2019-nrt_Discrete-Classification-map_EPSG-4326_reclassified_.tif file.\n",
      "CPU process time: 0.0 [min] 30.8 [s]\n",
      "Computing mode...\n",
      "Pixel Size:  89.36925373279817  x  89.36925373279817\n",
      "CPU process time: 0.0 [min] 11.7 [s]\n",
      "Raster Processing End, final result: D:/convergence_europe/coe/outputs/LC2\\E020N80_PROBAV_LC100_global_v3.0.1_2019-nrt_Discrete-Classification-map_EPSG-4326_resampled_.tif\n",
      "Reprojecting...\n",
      "EPSG:4326\n",
      "The CRS is:  EPSG:4326 the file will be reprojected to  EPSG:54009\n",
      "CPU process time: 0.0 [min] 7.8 [s]\n",
      "Reclassifing...\n",
      "Raster reclissified to false\\W020N40_PROBAV_LC100_global_v3.0.1_2019-nrt_Discrete-Classification-map_EPSG-4326_reclassified_.tif file.\n",
      "CPU process time: 0.0 [min] 31.8 [s]\n",
      "Computing mode...\n",
      "Pixel Size:  101.29926530444268  x  101.29926530444268\n",
      "CPU process time: 0.0 [min] 15.1 [s]\n",
      "Raster Processing End, final result: D:/convergence_europe/coe/outputs/LC2\\W020N40_PROBAV_LC100_global_v3.0.1_2019-nrt_Discrete-Classification-map_EPSG-4326_resampled_.tif\n",
      "Reprojecting...\n",
      "EPSG:4326\n",
      "The CRS is:  EPSG:4326 the file will be reprojected to  EPSG:54009\n",
      "CPU process time: 0.0 [min] 8.4 [s]\n",
      "Reclassifing...\n",
      "Raster reclissified to false\\W020N60_PROBAV_LC100_global_v3.0.1_2019-nrt_Discrete-Classification-map_EPSG-4326_reclassified_.tif file.\n",
      "CPU process time: 0.0 [min] 37.2 [s]\n",
      "Computing mode...\n",
      "Pixel Size:  86.19835681314109  x  86.19835681314109\n",
      "CPU process time: 0.0 [min] 12.5 [s]\n",
      "Raster Processing End, final result: D:/convergence_europe/coe/outputs/LC2\\W020N60_PROBAV_LC100_global_v3.0.1_2019-nrt_Discrete-Classification-map_EPSG-4326_resampled_.tif\n",
      "Reprojecting...\n",
      "EPSG:4326\n",
      "The CRS is:  EPSG:4326 the file will be reprojected to  EPSG:54009\n",
      "CPU process time: 0.0 [min] 8.5 [s]\n",
      "Reclassifing...\n",
      "Raster reclissified to false\\W020N80_PROBAV_LC100_global_v3.0.1_2019-nrt_Discrete-Classification-map_EPSG-4326_reclassified_.tif file.\n",
      "CPU process time: 2.0 [min] 7.0 [s]\n",
      "Computing mode...\n",
      "Pixel Size:  62.26854959575381  x  62.26854959575381\n",
      "CPU process time: 0.0 [min] 9.7 [s]\n",
      "Raster Processing End, final result: D:/convergence_europe/coe/outputs/LC2\\W020N80_PROBAV_LC100_global_v3.0.1_2019-nrt_Discrete-Classification-map_EPSG-4326_resampled_.tif\n"
     ]
    }
   ],
   "source": [
    "out_param= {\n",
    "          \"raster_output\" : raster_output ,\n",
    "          \"processing_folder\": processing_folder,\n",
    "          \"del_process\": del_process}\n",
    "\n",
    "frc.compute_raster(classification,\n",
    "                   out_param,\n",
    "                   input_raster_folder)\n",
    "\n",
    "\n"
   ]
  },
  {
   "cell_type": "markdown",
   "metadata": {},
   "source": [
    "**Resampling tool: here it is possible to resample the LC to the resolution (m/px) needed**"
   ]
  },
  {
   "cell_type": "code",
   "execution_count": null,
   "metadata": {},
   "outputs": [],
   "source": [
    "from lib.LC_mode import resample_raster\n",
    "from rasterio.enums import Resampling"
   ]
  },
  {
   "cell_type": "markdown",
   "metadata": {},
   "source": [
    "Resampling True or False, if false the original resolution of the LC will be considered"
   ]
  },
  {
   "cell_type": "code",
   "execution_count": null,
   "metadata": {},
   "outputs": [],
   "source": [
    "resampling= True"
   ]
  },
  {
   "cell_type": "code",
   "execution_count": null,
   "metadata": {},
   "outputs": [],
   "source": [
    "if resampling is True:\n"
   ]
  },
  {
   "cell_type": "markdown",
   "metadata": {},
   "source": [
    "Set the input folder"
   ]
  },
  {
   "cell_type": "code",
   "execution_count": null,
   "metadata": {},
   "outputs": [],
   "source": [
    "    folder_to_resample=raster_output"
   ]
  },
  {
   "cell_type": "markdown",
   "metadata": {},
   "source": [
    "Set output folder"
   ]
  },
  {
   "cell_type": "code",
   "execution_count": null,
   "metadata": {},
   "outputs": [],
   "source": [
    "    folder_resampled= \"D:/convergence_europe/coe/outputs/LC_resampled\"\n"
   ]
  },
  {
   "cell_type": "markdown",
   "metadata": {},
   "source": [
    "Set the new resolution (m/px)"
   ]
  },
  {
   "cell_type": "code",
   "execution_count": null,
   "metadata": {},
   "outputs": [],
   "source": [
    "    scale= 1000\n"
   ]
  },
  {
   "cell_type": "markdown",
   "metadata": {},
   "source": [
    "Set the resampling algorithm. \n",
    "Available methods: ‘nearest’, ‘bilinear’, ‘cubic’, ‘cubic_spline’, ‘lanczos’, ‘average’, ‘mode’, ‘gauss’, max’, ‘min’, ‘med’, ‘q1’, ‘q3’\n",
    "more info [here](https://rasterio.readthedocs.io/en/latest/api/rasterio.enums.html#rasterio.enums.Resampling)"
   ]
  },
  {
   "cell_type": "code",
   "execution_count": null,
   "metadata": {},
   "outputs": [],
   "source": [
    "    res_type=Resampling.mode"
   ]
  },
  {
   "cell_type": "code",
   "execution_count": 16,
   "metadata": {},
   "outputs": [
    {
     "name": "stdout",
     "output_type": "stream",
     "text": [
      "['E000N40_PROBAV_LC100_global_v3.0.1_2019-nrt_Discrete-Classification-map_EPSG-4326_resampled_.tif', 'E000N60_PROBAV_LC100_global_v3.0.1_2019-nrt_Discrete-Classification-map_EPSG-4326_resampled_.tif', 'E000N80_PROBAV_LC100_global_v3.0.1_2019-nrt_Discrete-Classification-map_EPSG-4326_resampled_.tif', 'E020N40_PROBAV_LC100_global_v3.0.1_2019-nrt_Discrete-Classification-map_EPSG-4326_resampled_.tif', 'E020N60_PROBAV_LC100_global_v3.0.1_2019-nrt_Discrete-Classification-map_EPSG-4326_resampled_.tif', 'E020N80_PROBAV_LC100_global_v3.0.1_2019-nrt_Discrete-Classification-map_EPSG-4326_resampled_.tif', 'W020N40_PROBAV_LC100_global_v3.0.1_2019-nrt_Discrete-Classification-map_EPSG-4326_resampled_.tif', 'W020N60_PROBAV_LC100_global_v3.0.1_2019-nrt_Discrete-Classification-map_EPSG-4326_resampled_.tif', 'W020N80_PROBAV_LC100_global_v3.0.1_2019-nrt_Discrete-Classification-map_EPSG-4326_resampled_.tif']\n",
      "Computing mode...\n",
      "Pixel Size:  250.00000000000003  x  250.00000000000003\n",
      "CPU process time: 0.0 [min] 2.0 [s]\n",
      "Computing mode...\n",
      "Pixel Size:  250.00000000000003  x  250.00000000000003\n",
      "CPU process time: 0.0 [min] 2.0 [s]\n",
      "Computing mode...\n",
      "Pixel Size:  250.0  x  250.0\n",
      "CPU process time: 0.0 [min] 1.4 [s]\n",
      "Computing mode...\n",
      "Pixel Size:  250.00000000000003  x  250.00000000000003\n",
      "CPU process time: 0.0 [min] 2.5 [s]\n",
      "Computing mode...\n",
      "Pixel Size:  250.0  x  250.0\n",
      "CPU process time: 0.0 [min] 2.0 [s]\n",
      "Computing mode...\n",
      "Pixel Size:  250.00000000000003  x  250.00000000000003\n",
      "CPU process time: 0.0 [min] 1.5 [s]\n",
      "Computing mode...\n",
      "Pixel Size:  250.0  x  250.0\n",
      "CPU process time: 0.0 [min] 1.9 [s]\n",
      "Computing mode...\n",
      "Pixel Size:  250.0  x  250.0\n",
      "CPU process time: 0.0 [min] 1.7 [s]\n",
      "Computing mode...\n",
      "Pixel Size:  250.00000000000003  x  250.00000000000003\n",
      "CPU process time: 0.0 [min] 1.2 [s]\n"
     ]
    }
   ],
   "source": [
    "# if resampling is True:\n",
    "#     folder_to_resample=raster_output\n",
    "#     folder_resampled= \"D:/convergence_europe/coe/outputs/LC_resampled\"\n",
    "#     scale= 1000\n",
    "#     res_type=Resampling.mode\n",
    "    \n",
    "    if not os.path.exists(folder_resampled):\n",
    "        os.mkdir(folder_resampled)\n",
    "\n",
    "    r=os.listdir(folder_to_resample)\n",
    "    print(r)\n",
    "   \n",
    "    for q in r:\n",
    "        fp= os.path.join(folder_to_resample, q)\n",
    "        fpo= os.path.join(folder_resampled, q)\n",
    "        r= resample_raster(filepath=fp, scale=scale, res_type=res_type, out_tif=fpo)\n",
    "\n",
    "    raster_output=folder_resampled\n",
    "    print('Resampling done')"
   ]
  },
  {
   "cell_type": "markdown",
   "metadata": {},
   "source": [
    "## Stratification"
   ]
  },
  {
   "cell_type": "markdown",
   "metadata": {},
   "source": [
    "**Compute the median**"
   ]
  },
  {
   "cell_type": "markdown",
   "metadata": {},
   "source": [
    "This step calculate the median of the indicator for each class of the land cover.\n",
    "Repeat this step for each indicator you want to compute."
   ]
  },
  {
   "cell_type": "code",
   "execution_count": 8,
   "metadata": {},
   "outputs": [],
   "source": [
    "#!/usr/bin/env python\n",
    "# -*- coding: utf-8 -*-\n",
    "\n",
    "import os\n",
    "import json\n",
    "import sys, getopt\n",
    "\n",
    "#import functions from my library\n",
    "import full_raster_computation as frc\n",
    "from lib import tiling as tiling\n",
    "from lib import merge as merge"
   ]
  },
  {
   "cell_type": "markdown",
   "metadata": {},
   "source": [
    "Path to input data"
   ]
  },
  {
   "cell_type": "code",
   "execution_count": null,
   "metadata": {},
   "outputs": [],
   "source": [
    "indicator_input = \"D:/convergence_europe/pop/pop.tif\""
   ]
  },
  {
   "cell_type": "markdown",
   "metadata": {},
   "source": [
    "Output data:\n",
    "\n",
    "```\n",
    "path+output_name.tiff\n",
    "```"
   ]
  },
  {
   "cell_type": "code",
   "execution_count": null,
   "metadata": {},
   "outputs": [],
   "source": [
    "output_data_name = \"D:/convergence_europe/coe/outputs/pop_out.tiff\""
   ]
  },
  {
   "cell_type": "markdown",
   "metadata": {},
   "source": [
    "Define the reclassified/resampled LC input folder. (default value from previous step, in case it is possible to write the absolute folder path to use)"
   ]
  },
  {
   "cell_type": "code",
   "execution_count": null,
   "metadata": {},
   "outputs": [],
   "source": [
    "LC_output_data = raster_output # \"D:/convergence_europe/coe/outputs/LC2\""
   ]
  },
  {
   "cell_type": "code",
   "execution_count": null,
   "metadata": {},
   "outputs": [],
   "source": [
    "median_folder = \"D:/convergence_europe/coe/process/pop/\""
   ]
  },
  {
   "cell_type": "markdown",
   "metadata": {},
   "source": [
    "Set output resolution in m/pixel"
   ]
  },
  {
   "cell_type": "code",
   "execution_count": null,
   "metadata": {},
   "outputs": [],
   "source": [
    "resolution = 1000"
   ]
  },
  {
   "cell_type": "markdown",
   "metadata": {},
   "source": [
    "Reclassification classes for the input indicator (must be equal to the new LC classes)"
   ]
  },
  {
   "cell_type": "code",
   "execution_count": null,
   "metadata": {},
   "outputs": [],
   "source": [
    "classes = [1, 2, 3, 4, 5, 6]"
   ]
  },
  {
   "cell_type": "markdown",
   "metadata": {},
   "source": [
    "Set the indicator name"
   ]
  },
  {
   "cell_type": "code",
   "execution_count": null,
   "metadata": {},
   "outputs": [],
   "source": [
    "indicator_name = \"population\""
   ]
  },
  {
   "cell_type": "markdown",
   "metadata": {},
   "source": [
    "Statistic methods to use (median, ...)"
   ]
  },
  {
   "cell_type": "code",
   "execution_count": null,
   "metadata": {},
   "outputs": [],
   "source": [
    "stat_stat = \"median\""
   ]
  },
  {
   "cell_type": "markdown",
   "metadata": {},
   "source": [
    "Greater than stat_stat, ..."
   ]
  },
  {
   "cell_type": "code",
   "execution_count": null,
   "metadata": {},
   "outputs": [],
   "source": [
    "stat_method = \"greater\""
   ]
  },
  {
   "cell_type": "code",
   "execution_count": null,
   "metadata": {},
   "outputs": [],
   "source": [
    "tiling.stratification (\n",
    "                        indicator_input,\n",
    "                        LC_output_data,\n",
    "                        median_folder,\n",
    "                        resolution,\n",
    "                        classes,\n",
    "                        indicator_name,\n",
    "                        stat_method,\n",
    "                        stat_stat)"
   ]
  },
  {
   "cell_type": "code",
   "execution_count": null,
   "metadata": {},
   "outputs": [],
   "source": [
    "merge.merge_raster(median_folder, resolution, output_data_name)"
   ]
  },
  {
   "cell_type": "code",
   "execution_count": null,
   "metadata": {},
   "outputs": [],
   "source": [
    "print (\"the results are available at this path: \" output_data_name )"
   ]
  },
  {
   "cell_type": "markdown",
   "metadata": {},
   "source": [
    "## Simple Reclassification"
   ]
  },
  {
   "cell_type": "markdown",
   "metadata": {},
   "source": [
    "Input folder"
   ]
  },
  {
   "cell_type": "code",
   "execution_count": null,
   "metadata": {},
   "outputs": [],
   "source": [
    "input_raster_folder= \"D:/convergence_europe/coe/input/LC\""
   ]
  },
  {
   "cell_type": "markdown",
   "metadata": {},
   "source": [
    "Define classes"
   ]
  },
  {
   "cell_type": "code",
   "execution_count": null,
   "metadata": {},
   "outputs": [],
   "source": [
    "classification= [[0, 19, 0], [20, 39, 1], [40, 49, 2], [50, 59, 4], [60, 69, 6], [70, 89, 0], [90, 99, 5], [100, 109, 6], [110, 126, 3], [127, 255, 0]]"
   ]
  },
  {
   "cell_type": "markdown",
   "metadata": {},
   "source": [
    "Output folder"
   ]
  },
  {
   "cell_type": "code",
   "execution_count": null,
   "metadata": {},
   "outputs": [],
   "source": [
    "raster_output= \"D:/convergence_europe/coe/outputs/LC2\""
   ]
  },
  {
   "cell_type": "code",
   "execution_count": null,
   "metadata": {},
   "outputs": [],
   "source": [
    "processing_folder= 'false'"
   ]
  },
  {
   "cell_type": "code",
   "execution_count": null,
   "metadata": {},
   "outputs": [],
   "source": [
    "del_process = 'false'"
   ]
  },
  {
   "cell_type": "code",
   "execution_count": null,
   "metadata": {},
   "outputs": [],
   "source": [
    "out_param= {\n",
    "          \"raster_output\" : raster_output ,\n",
    "          \"processing_folder\": processing_folder,\n",
    "          \"del_process\": del_process}\n",
    "\n",
    "frc.compute_raster(classification,\n",
    "                   out_param,\n",
    "                   input_raster_folder)\n"
   ]
  },
  {
   "cell_type": "markdown",
   "metadata": {},
   "source": [
    "## Convergence of Evidence"
   ]
  },
  {
   "cell_type": "markdown",
   "metadata": {},
   "source": [
    "This is the final step in which all the indicator will be put together to obtain the CoE Map"
   ]
  },
  {
   "cell_type": "code",
   "execution_count": null,
   "metadata": {},
   "outputs": [],
   "source": [
    "import os\n",
    "import rasterio\n",
    "import time\n",
    "import numpy as np\n",
    "from rasterio.plot import show\n",
    "\n",
    "\n",
    "start = time.process_time()\n",
    "print('Starting raster sum...')"
   ]
  },
  {
   "cell_type": "markdown",
   "metadata": {},
   "source": [
    "Path of the output indicators"
   ]
  },
  {
   "cell_type": "code",
   "execution_count": null,
   "metadata": {},
   "outputs": [],
   "source": [
    "path ='/indicator/'"
   ]
  },
  {
   "cell_type": "markdown",
   "metadata": {},
   "source": [
    "Here is where the code put together all the inputs to compute the CoE"
   ]
  },
  {
   "cell_type": "code",
   "execution_count": null,
   "metadata": {},
   "outputs": [],
   "source": [
    "indicator = []\n",
    "for r, d, f in os.walk(path):\n",
    "    for file in f:\n",
    "        if '.tif' in file:\n",
    "            indicator.append(os.path.join(r, file))\n",
    "\n",
    "for f in indicator:\n",
    "    print(f)\n",
    "\n",
    "# initializate var sum as none to be checked later if still none then no sum calculated\n",
    "sum = None\n",
    "\n",
    "with rasterio.open(indicator[0]) as src:\n",
    "    #sum = np.zeros[src.shape]\n",
    "    out_meta = src.meta.copy()\n",
    "\n",
    "    sum = src.read()\n",
    "    print(sum.shape)\n",
    "    print(np.sum(sum))\n",
    "\n",
    "for raster_path in indicator[1:]:\n",
    "    with rasterio.open(raster_path) as src:\n",
    "        sum += src.read()\n",
    "        print(np.sum(sum))\n",
    "\n",
    "out_meta.update({\"driver\": \"GTiff\",\n",
    "                 \"dtype\":rasterio.uint8,\n",
    "                 \"count\": 1,\n",
    "                 \"compress\": 'lzw',\n",
    "                 \"BIGTIFF\": \"IF_SAFER\"\n",
    "                 })\n",
    "\n",
    "with rasterio.open('convergence.tif', \"w\", **out_meta) as summed:\n",
    "    summed.write(sum)\n",
    "\n",
    "    print(\"convergence computed\")\n",
    "\n",
    "\n",
    "el_time = (time.process_time() - start)\n",
    "elapsed_time = \"CPU process time: %.1f [min] %.1f [s]\" % (int(el_time/60), el_time % 60)\n",
    "print(elapsed_time)"
   ]
  },
  {
   "cell_type": "markdown",
   "metadata": {},
   "source": [
    "See the results"
   ]
  },
  {
   "cell_type": "code",
   "execution_count": null,
   "metadata": {},
   "outputs": [],
   "source": [
    "coe = rasterio.open(convergence.tif)\n",
    "ax= show((coe,1))\n"
   ]
  },
  {
   "cell_type": "markdown",
   "metadata": {},
   "source": [
    "## Statistics"
   ]
  },
  {
   "cell_type": "markdown",
   "metadata": {},
   "source": [
    "Zonal Statistics - Still alfa"
   ]
  },
  {
   "cell_type": "code",
   "execution_count": 54,
   "metadata": {},
   "outputs": [],
   "source": [
    "import rasterio\n",
    "from rasterio.plot import show\n",
    "from rasterstats import zonal_stats"
   ]
  },
  {
   "cell_type": "markdown",
   "metadata": {},
   "source": [
    "Set the shapefile with the regions of interest"
   ]
  },
  {
   "cell_type": "code",
   "execution_count": 55,
   "metadata": {},
   "outputs": [],
   "source": [
    "region_a = \"C:\\\\Users\\\\giano\\\\Downloads\\\\padova2.shp\""
   ]
  },
  {
   "cell_type": "markdown",
   "metadata": {},
   "source": [
    "Path to the CoE map"
   ]
  },
  {
   "cell_type": "code",
   "execution_count": 56,
   "metadata": {},
   "outputs": [],
   "source": [
    "stats = zonal_stats(\"C:\\\\Users\\\\giano\\\\Downloads\\\\padova2.shp\", \"C:\\\\Users\\\\giano\\\\Downloads\\\\w50070_s10\\\\w50070_s10.tif\")\n"
   ]
  },
  {
   "cell_type": "code",
   "execution_count": 57,
   "metadata": {},
   "outputs": [
    {
     "data": {
      "text/plain": [
       "dict_keys(['min', 'max', 'mean', 'count'])"
      ]
     },
     "execution_count": 57,
     "metadata": {},
     "output_type": "execute_result"
    }
   ],
   "source": [
    "stats[0].keys()"
   ]
  },
  {
   "cell_type": "code",
   "execution_count": 58,
   "metadata": {},
   "outputs": [
    {
     "data": {
      "text/plain": [
       "[11.551465914997829]"
      ]
     },
     "execution_count": 58,
     "metadata": {},
     "output_type": "execute_result"
    }
   ],
   "source": [
    "[f['mean'] for f in stats]"
   ]
  }
 ],
 "metadata": {
  "kernelspec": {
   "display_name": "Python 3",
   "language": "python",
   "name": "python3"
  },
  "language_info": {
   "codemirror_mode": {
    "name": "ipython",
    "version": 3
   },
   "file_extension": ".py",
   "mimetype": "text/x-python",
   "name": "python",
   "nbconvert_exporter": "python",
   "pygments_lexer": "ipython3",
   "version": "3.7.4"
  }
 },
 "nbformat": 4,
 "nbformat_minor": 4
}
